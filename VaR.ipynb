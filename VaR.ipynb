{
  "nbformat": 4,
  "nbformat_minor": 0,
  "metadata": {
    "colab": {
      "name": "VaR.ipynb",
      "provenance": [],
      "include_colab_link": true
    },
    "kernelspec": {
      "name": "python3",
      "display_name": "Python 3"
    }
  },
  "cells": [
    {
      "cell_type": "markdown",
      "metadata": {
        "id": "view-in-github",
        "colab_type": "text"
      },
      "source": [
        "<a href=\"https://colab.research.google.com/github/LorenFiorini/Value_at_Risk/blob/main/VaR.ipynb\" target=\"_parent\"><img src=\"https://colab.research.google.com/assets/colab-badge.svg\" alt=\"Open In Colab\"/></a>"
      ]
    },
    {
      "cell_type": "code",
      "metadata": {
        "id": "av5Mm9F_0egA",
        "outputId": "21290e27-5d9f-4875-fa3b-0c71281892ae",
        "colab": {
          "base_uri": "https://localhost:8080/"
        }
      },
      "source": [
        "pip install arch"
      ],
      "execution_count": 1,
      "outputs": [
        {
          "output_type": "stream",
          "name": "stdout",
          "text": [
            "Collecting arch\n",
            "  Downloading arch-5.2.0-cp37-cp37m-manylinux_2_17_x86_64.manylinux2014_x86_64.whl (902 kB)\n",
            "\u001b[?25l\r\u001b[K     |▍                               | 10 kB 15.0 MB/s eta 0:00:01\r\u001b[K     |▊                               | 20 kB 21.2 MB/s eta 0:00:01\r\u001b[K     |█                               | 30 kB 15.2 MB/s eta 0:00:01\r\u001b[K     |█▌                              | 40 kB 11.4 MB/s eta 0:00:01\r\u001b[K     |█▉                              | 51 kB 5.5 MB/s eta 0:00:01\r\u001b[K     |██▏                             | 61 kB 6.5 MB/s eta 0:00:01\r\u001b[K     |██▌                             | 71 kB 7.2 MB/s eta 0:00:01\r\u001b[K     |███                             | 81 kB 6.2 MB/s eta 0:00:01\r\u001b[K     |███▎                            | 92 kB 6.8 MB/s eta 0:00:01\r\u001b[K     |███▋                            | 102 kB 7.4 MB/s eta 0:00:01\r\u001b[K     |████                            | 112 kB 7.4 MB/s eta 0:00:01\r\u001b[K     |████▍                           | 122 kB 7.4 MB/s eta 0:00:01\r\u001b[K     |████▊                           | 133 kB 7.4 MB/s eta 0:00:01\r\u001b[K     |█████                           | 143 kB 7.4 MB/s eta 0:00:01\r\u001b[K     |█████▍                          | 153 kB 7.4 MB/s eta 0:00:01\r\u001b[K     |█████▉                          | 163 kB 7.4 MB/s eta 0:00:01\r\u001b[K     |██████▏                         | 174 kB 7.4 MB/s eta 0:00:01\r\u001b[K     |██████▌                         | 184 kB 7.4 MB/s eta 0:00:01\r\u001b[K     |███████                         | 194 kB 7.4 MB/s eta 0:00:01\r\u001b[K     |███████▎                        | 204 kB 7.4 MB/s eta 0:00:01\r\u001b[K     |███████▋                        | 215 kB 7.4 MB/s eta 0:00:01\r\u001b[K     |████████                        | 225 kB 7.4 MB/s eta 0:00:01\r\u001b[K     |████████▍                       | 235 kB 7.4 MB/s eta 0:00:01\r\u001b[K     |████████▊                       | 245 kB 7.4 MB/s eta 0:00:01\r\u001b[K     |█████████                       | 256 kB 7.4 MB/s eta 0:00:01\r\u001b[K     |█████████▍                      | 266 kB 7.4 MB/s eta 0:00:01\r\u001b[K     |█████████▉                      | 276 kB 7.4 MB/s eta 0:00:01\r\u001b[K     |██████████▏                     | 286 kB 7.4 MB/s eta 0:00:01\r\u001b[K     |██████████▌                     | 296 kB 7.4 MB/s eta 0:00:01\r\u001b[K     |██████████▉                     | 307 kB 7.4 MB/s eta 0:00:01\r\u001b[K     |███████████▎                    | 317 kB 7.4 MB/s eta 0:00:01\r\u001b[K     |███████████▋                    | 327 kB 7.4 MB/s eta 0:00:01\r\u001b[K     |████████████                    | 337 kB 7.4 MB/s eta 0:00:01\r\u001b[K     |████████████▍                   | 348 kB 7.4 MB/s eta 0:00:01\r\u001b[K     |████████████▊                   | 358 kB 7.4 MB/s eta 0:00:01\r\u001b[K     |█████████████                   | 368 kB 7.4 MB/s eta 0:00:01\r\u001b[K     |█████████████▍                  | 378 kB 7.4 MB/s eta 0:00:01\r\u001b[K     |█████████████▉                  | 389 kB 7.4 MB/s eta 0:00:01\r\u001b[K     |██████████████▏                 | 399 kB 7.4 MB/s eta 0:00:01\r\u001b[K     |██████████████▌                 | 409 kB 7.4 MB/s eta 0:00:01\r\u001b[K     |██████████████▉                 | 419 kB 7.4 MB/s eta 0:00:01\r\u001b[K     |███████████████▎                | 430 kB 7.4 MB/s eta 0:00:01\r\u001b[K     |███████████████▋                | 440 kB 7.4 MB/s eta 0:00:01\r\u001b[K     |████████████████                | 450 kB 7.4 MB/s eta 0:00:01\r\u001b[K     |████████████████▎               | 460 kB 7.4 MB/s eta 0:00:01\r\u001b[K     |████████████████▊               | 471 kB 7.4 MB/s eta 0:00:01\r\u001b[K     |█████████████████               | 481 kB 7.4 MB/s eta 0:00:01\r\u001b[K     |█████████████████▍              | 491 kB 7.4 MB/s eta 0:00:01\r\u001b[K     |█████████████████▉              | 501 kB 7.4 MB/s eta 0:00:01\r\u001b[K     |██████████████████▏             | 512 kB 7.4 MB/s eta 0:00:01\r\u001b[K     |██████████████████▌             | 522 kB 7.4 MB/s eta 0:00:01\r\u001b[K     |██████████████████▉             | 532 kB 7.4 MB/s eta 0:00:01\r\u001b[K     |███████████████████▎            | 542 kB 7.4 MB/s eta 0:00:01\r\u001b[K     |███████████████████▋            | 552 kB 7.4 MB/s eta 0:00:01\r\u001b[K     |████████████████████            | 563 kB 7.4 MB/s eta 0:00:01\r\u001b[K     |████████████████████▎           | 573 kB 7.4 MB/s eta 0:00:01\r\u001b[K     |████████████████████▊           | 583 kB 7.4 MB/s eta 0:00:01\r\u001b[K     |█████████████████████           | 593 kB 7.4 MB/s eta 0:00:01\r\u001b[K     |█████████████████████▍          | 604 kB 7.4 MB/s eta 0:00:01\r\u001b[K     |█████████████████████▊          | 614 kB 7.4 MB/s eta 0:00:01\r\u001b[K     |██████████████████████▏         | 624 kB 7.4 MB/s eta 0:00:01\r\u001b[K     |██████████████████████▌         | 634 kB 7.4 MB/s eta 0:00:01\r\u001b[K     |██████████████████████▉         | 645 kB 7.4 MB/s eta 0:00:01\r\u001b[K     |███████████████████████▎        | 655 kB 7.4 MB/s eta 0:00:01\r\u001b[K     |███████████████████████▋        | 665 kB 7.4 MB/s eta 0:00:01\r\u001b[K     |████████████████████████        | 675 kB 7.4 MB/s eta 0:00:01\r\u001b[K     |████████████████████████▎       | 686 kB 7.4 MB/s eta 0:00:01\r\u001b[K     |████████████████████████▊       | 696 kB 7.4 MB/s eta 0:00:01\r\u001b[K     |█████████████████████████       | 706 kB 7.4 MB/s eta 0:00:01\r\u001b[K     |█████████████████████████▍      | 716 kB 7.4 MB/s eta 0:00:01\r\u001b[K     |█████████████████████████▊      | 727 kB 7.4 MB/s eta 0:00:01\r\u001b[K     |██████████████████████████▏     | 737 kB 7.4 MB/s eta 0:00:01\r\u001b[K     |██████████████████████████▌     | 747 kB 7.4 MB/s eta 0:00:01\r\u001b[K     |██████████████████████████▉     | 757 kB 7.4 MB/s eta 0:00:01\r\u001b[K     |███████████████████████████▏    | 768 kB 7.4 MB/s eta 0:00:01\r\u001b[K     |███████████████████████████▋    | 778 kB 7.4 MB/s eta 0:00:01\r\u001b[K     |████████████████████████████    | 788 kB 7.4 MB/s eta 0:00:01\r\u001b[K     |████████████████████████████▎   | 798 kB 7.4 MB/s eta 0:00:01\r\u001b[K     |████████████████████████████▊   | 808 kB 7.4 MB/s eta 0:00:01\r\u001b[K     |█████████████████████████████   | 819 kB 7.4 MB/s eta 0:00:01\r\u001b[K     |█████████████████████████████▍  | 829 kB 7.4 MB/s eta 0:00:01\r\u001b[K     |█████████████████████████████▊  | 839 kB 7.4 MB/s eta 0:00:01\r\u001b[K     |██████████████████████████████▏ | 849 kB 7.4 MB/s eta 0:00:01\r\u001b[K     |██████████████████████████████▌ | 860 kB 7.4 MB/s eta 0:00:01\r\u001b[K     |██████████████████████████████▉ | 870 kB 7.4 MB/s eta 0:00:01\r\u001b[K     |███████████████████████████████▏| 880 kB 7.4 MB/s eta 0:00:01\r\u001b[K     |███████████████████████████████▋| 890 kB 7.4 MB/s eta 0:00:01\r\u001b[K     |████████████████████████████████| 901 kB 7.4 MB/s eta 0:00:01\r\u001b[K     |████████████████████████████████| 902 kB 7.4 MB/s \n",
            "\u001b[?25hRequirement already satisfied: pandas>=1.0 in /usr/local/lib/python3.7/dist-packages (from arch) (1.3.5)\n",
            "Requirement already satisfied: numpy>=1.17 in /usr/local/lib/python3.7/dist-packages (from arch) (1.21.5)\n",
            "Collecting statsmodels>=0.11\n",
            "  Downloading statsmodels-0.13.2-cp37-cp37m-manylinux_2_17_x86_64.manylinux2014_x86_64.whl (9.8 MB)\n",
            "\u001b[K     |████████████████████████████████| 9.8 MB 43.6 MB/s \n",
            "\u001b[?25hRequirement already satisfied: scipy>=1.3 in /usr/local/lib/python3.7/dist-packages (from arch) (1.4.1)\n",
            "Collecting property-cached>=1.6.4\n",
            "  Downloading property_cached-1.6.4-py2.py3-none-any.whl (7.8 kB)\n",
            "Requirement already satisfied: python-dateutil>=2.7.3 in /usr/local/lib/python3.7/dist-packages (from pandas>=1.0->arch) (2.8.2)\n",
            "Requirement already satisfied: pytz>=2017.3 in /usr/local/lib/python3.7/dist-packages (from pandas>=1.0->arch) (2018.9)\n",
            "Requirement already satisfied: six>=1.5 in /usr/local/lib/python3.7/dist-packages (from python-dateutil>=2.7.3->pandas>=1.0->arch) (1.15.0)\n",
            "Requirement already satisfied: packaging>=21.3 in /usr/local/lib/python3.7/dist-packages (from statsmodels>=0.11->arch) (21.3)\n",
            "Requirement already satisfied: patsy>=0.5.2 in /usr/local/lib/python3.7/dist-packages (from statsmodels>=0.11->arch) (0.5.2)\n",
            "Requirement already satisfied: pyparsing!=3.0.5,>=2.0.2 in /usr/local/lib/python3.7/dist-packages (from packaging>=21.3->statsmodels>=0.11->arch) (3.0.8)\n",
            "Installing collected packages: statsmodels, property-cached, arch\n",
            "  Attempting uninstall: statsmodels\n",
            "    Found existing installation: statsmodels 0.10.2\n",
            "    Uninstalling statsmodels-0.10.2:\n",
            "      Successfully uninstalled statsmodels-0.10.2\n",
            "Successfully installed arch-5.2.0 property-cached-1.6.4 statsmodels-0.13.2\n"
          ]
        }
      ]
    },
    {
      "cell_type": "code",
      "metadata": {
        "id": "XC7Ce1A_zoF_"
      },
      "source": [
        "# example of ARCH model\n",
        "import numpy as np\n",
        "from random import gauss\n",
        "from random import seed\n",
        "from matplotlib import pyplot\n",
        "from arch import arch_model\n",
        "import pandas as pd\n",
        "from scipy.stats import binom"
      ],
      "execution_count": 2,
      "outputs": []
    },
    {
      "cell_type": "markdown",
      "metadata": {
        "id": "TlKwBVLjQqUY"
      },
      "source": [
        "Read and preprocess the data such as calculating the continously compounded return."
      ]
    },
    {
      "cell_type": "code",
      "metadata": {
        "id": "e_-w3EY12eHo",
        "colab": {
          "base_uri": "https://localhost:8080/",
          "height": 345
        },
        "outputId": "690e0d6b-78bc-48b5-9694-e0ab18ad57c4"
      },
      "source": [
        "# here we use the USD YEN exchange rate as an example\n",
        "# Data is downloaded from https://www.macrotrends.net/2550/dollar-yen-exchange-rate-historical-chart\n",
        "data = pd.read_csv(\"dollar-yen-exchange-rate-historical-chart.csv\", header = 8) "
      ],
      "execution_count": 3,
      "outputs": [
        {
          "output_type": "error",
          "ename": "FileNotFoundError",
          "evalue": "ignored",
          "traceback": [
            "\u001b[0;31m---------------------------------------------------------------------------\u001b[0m",
            "\u001b[0;31mFileNotFoundError\u001b[0m                         Traceback (most recent call last)",
            "\u001b[0;32m<ipython-input-3-a24a572695a7>\u001b[0m in \u001b[0;36m<module>\u001b[0;34m()\u001b[0m\n\u001b[1;32m      1\u001b[0m \u001b[0;31m# here we use the USD YEN exchange rate as an example\u001b[0m\u001b[0;34m\u001b[0m\u001b[0;34m\u001b[0m\u001b[0;34m\u001b[0m\u001b[0m\n\u001b[1;32m      2\u001b[0m \u001b[0;31m# Data is downloaded from https://www.macrotrends.net/2550/dollar-yen-exchange-rate-historical-chart\u001b[0m\u001b[0;34m\u001b[0m\u001b[0;34m\u001b[0m\u001b[0;34m\u001b[0m\u001b[0m\n\u001b[0;32m----> 3\u001b[0;31m \u001b[0mdata\u001b[0m \u001b[0;34m=\u001b[0m \u001b[0mpd\u001b[0m\u001b[0;34m.\u001b[0m\u001b[0mread_csv\u001b[0m\u001b[0;34m(\u001b[0m\u001b[0;34m\"dollar-yen-exchange-rate-historical-chart.csv\"\u001b[0m\u001b[0;34m,\u001b[0m \u001b[0mheader\u001b[0m \u001b[0;34m=\u001b[0m \u001b[0;36m8\u001b[0m\u001b[0;34m)\u001b[0m\u001b[0;34m\u001b[0m\u001b[0;34m\u001b[0m\u001b[0m\n\u001b[0m",
            "\u001b[0;32m/usr/local/lib/python3.7/dist-packages/pandas/util/_decorators.py\u001b[0m in \u001b[0;36mwrapper\u001b[0;34m(*args, **kwargs)\u001b[0m\n\u001b[1;32m    309\u001b[0m                     \u001b[0mstacklevel\u001b[0m\u001b[0;34m=\u001b[0m\u001b[0mstacklevel\u001b[0m\u001b[0;34m,\u001b[0m\u001b[0;34m\u001b[0m\u001b[0;34m\u001b[0m\u001b[0m\n\u001b[1;32m    310\u001b[0m                 )\n\u001b[0;32m--> 311\u001b[0;31m             \u001b[0;32mreturn\u001b[0m \u001b[0mfunc\u001b[0m\u001b[0;34m(\u001b[0m\u001b[0;34m*\u001b[0m\u001b[0margs\u001b[0m\u001b[0;34m,\u001b[0m \u001b[0;34m**\u001b[0m\u001b[0mkwargs\u001b[0m\u001b[0;34m)\u001b[0m\u001b[0;34m\u001b[0m\u001b[0;34m\u001b[0m\u001b[0m\n\u001b[0m\u001b[1;32m    312\u001b[0m \u001b[0;34m\u001b[0m\u001b[0m\n\u001b[1;32m    313\u001b[0m         \u001b[0;32mreturn\u001b[0m \u001b[0mwrapper\u001b[0m\u001b[0;34m\u001b[0m\u001b[0;34m\u001b[0m\u001b[0m\n",
            "\u001b[0;32m/usr/local/lib/python3.7/dist-packages/pandas/io/parsers/readers.py\u001b[0m in \u001b[0;36mread_csv\u001b[0;34m(filepath_or_buffer, sep, delimiter, header, names, index_col, usecols, squeeze, prefix, mangle_dupe_cols, dtype, engine, converters, true_values, false_values, skipinitialspace, skiprows, skipfooter, nrows, na_values, keep_default_na, na_filter, verbose, skip_blank_lines, parse_dates, infer_datetime_format, keep_date_col, date_parser, dayfirst, cache_dates, iterator, chunksize, compression, thousands, decimal, lineterminator, quotechar, quoting, doublequote, escapechar, comment, encoding, encoding_errors, dialect, error_bad_lines, warn_bad_lines, on_bad_lines, delim_whitespace, low_memory, memory_map, float_precision, storage_options)\u001b[0m\n\u001b[1;32m    584\u001b[0m     \u001b[0mkwds\u001b[0m\u001b[0;34m.\u001b[0m\u001b[0mupdate\u001b[0m\u001b[0;34m(\u001b[0m\u001b[0mkwds_defaults\u001b[0m\u001b[0;34m)\u001b[0m\u001b[0;34m\u001b[0m\u001b[0;34m\u001b[0m\u001b[0m\n\u001b[1;32m    585\u001b[0m \u001b[0;34m\u001b[0m\u001b[0m\n\u001b[0;32m--> 586\u001b[0;31m     \u001b[0;32mreturn\u001b[0m \u001b[0m_read\u001b[0m\u001b[0;34m(\u001b[0m\u001b[0mfilepath_or_buffer\u001b[0m\u001b[0;34m,\u001b[0m \u001b[0mkwds\u001b[0m\u001b[0;34m)\u001b[0m\u001b[0;34m\u001b[0m\u001b[0;34m\u001b[0m\u001b[0m\n\u001b[0m\u001b[1;32m    587\u001b[0m \u001b[0;34m\u001b[0m\u001b[0m\n\u001b[1;32m    588\u001b[0m \u001b[0;34m\u001b[0m\u001b[0m\n",
            "\u001b[0;32m/usr/local/lib/python3.7/dist-packages/pandas/io/parsers/readers.py\u001b[0m in \u001b[0;36m_read\u001b[0;34m(filepath_or_buffer, kwds)\u001b[0m\n\u001b[1;32m    480\u001b[0m \u001b[0;34m\u001b[0m\u001b[0m\n\u001b[1;32m    481\u001b[0m     \u001b[0;31m# Create the parser.\u001b[0m\u001b[0;34m\u001b[0m\u001b[0;34m\u001b[0m\u001b[0;34m\u001b[0m\u001b[0m\n\u001b[0;32m--> 482\u001b[0;31m     \u001b[0mparser\u001b[0m \u001b[0;34m=\u001b[0m \u001b[0mTextFileReader\u001b[0m\u001b[0;34m(\u001b[0m\u001b[0mfilepath_or_buffer\u001b[0m\u001b[0;34m,\u001b[0m \u001b[0;34m**\u001b[0m\u001b[0mkwds\u001b[0m\u001b[0;34m)\u001b[0m\u001b[0;34m\u001b[0m\u001b[0;34m\u001b[0m\u001b[0m\n\u001b[0m\u001b[1;32m    483\u001b[0m \u001b[0;34m\u001b[0m\u001b[0m\n\u001b[1;32m    484\u001b[0m     \u001b[0;32mif\u001b[0m \u001b[0mchunksize\u001b[0m \u001b[0;32mor\u001b[0m \u001b[0miterator\u001b[0m\u001b[0;34m:\u001b[0m\u001b[0;34m\u001b[0m\u001b[0;34m\u001b[0m\u001b[0m\n",
            "\u001b[0;32m/usr/local/lib/python3.7/dist-packages/pandas/io/parsers/readers.py\u001b[0m in \u001b[0;36m__init__\u001b[0;34m(self, f, engine, **kwds)\u001b[0m\n\u001b[1;32m    809\u001b[0m             \u001b[0mself\u001b[0m\u001b[0;34m.\u001b[0m\u001b[0moptions\u001b[0m\u001b[0;34m[\u001b[0m\u001b[0;34m\"has_index_names\"\u001b[0m\u001b[0;34m]\u001b[0m \u001b[0;34m=\u001b[0m \u001b[0mkwds\u001b[0m\u001b[0;34m[\u001b[0m\u001b[0;34m\"has_index_names\"\u001b[0m\u001b[0;34m]\u001b[0m\u001b[0;34m\u001b[0m\u001b[0;34m\u001b[0m\u001b[0m\n\u001b[1;32m    810\u001b[0m \u001b[0;34m\u001b[0m\u001b[0m\n\u001b[0;32m--> 811\u001b[0;31m         \u001b[0mself\u001b[0m\u001b[0;34m.\u001b[0m\u001b[0m_engine\u001b[0m \u001b[0;34m=\u001b[0m \u001b[0mself\u001b[0m\u001b[0;34m.\u001b[0m\u001b[0m_make_engine\u001b[0m\u001b[0;34m(\u001b[0m\u001b[0mself\u001b[0m\u001b[0;34m.\u001b[0m\u001b[0mengine\u001b[0m\u001b[0;34m)\u001b[0m\u001b[0;34m\u001b[0m\u001b[0;34m\u001b[0m\u001b[0m\n\u001b[0m\u001b[1;32m    812\u001b[0m \u001b[0;34m\u001b[0m\u001b[0m\n\u001b[1;32m    813\u001b[0m     \u001b[0;32mdef\u001b[0m \u001b[0mclose\u001b[0m\u001b[0;34m(\u001b[0m\u001b[0mself\u001b[0m\u001b[0;34m)\u001b[0m\u001b[0;34m:\u001b[0m\u001b[0;34m\u001b[0m\u001b[0;34m\u001b[0m\u001b[0m\n",
            "\u001b[0;32m/usr/local/lib/python3.7/dist-packages/pandas/io/parsers/readers.py\u001b[0m in \u001b[0;36m_make_engine\u001b[0;34m(self, engine)\u001b[0m\n\u001b[1;32m   1038\u001b[0m             )\n\u001b[1;32m   1039\u001b[0m         \u001b[0;31m# error: Too many arguments for \"ParserBase\"\u001b[0m\u001b[0;34m\u001b[0m\u001b[0;34m\u001b[0m\u001b[0;34m\u001b[0m\u001b[0m\n\u001b[0;32m-> 1040\u001b[0;31m         \u001b[0;32mreturn\u001b[0m \u001b[0mmapping\u001b[0m\u001b[0;34m[\u001b[0m\u001b[0mengine\u001b[0m\u001b[0;34m]\u001b[0m\u001b[0;34m(\u001b[0m\u001b[0mself\u001b[0m\u001b[0;34m.\u001b[0m\u001b[0mf\u001b[0m\u001b[0;34m,\u001b[0m \u001b[0;34m**\u001b[0m\u001b[0mself\u001b[0m\u001b[0;34m.\u001b[0m\u001b[0moptions\u001b[0m\u001b[0;34m)\u001b[0m  \u001b[0;31m# type: ignore[call-arg]\u001b[0m\u001b[0;34m\u001b[0m\u001b[0;34m\u001b[0m\u001b[0m\n\u001b[0m\u001b[1;32m   1041\u001b[0m \u001b[0;34m\u001b[0m\u001b[0m\n\u001b[1;32m   1042\u001b[0m     \u001b[0;32mdef\u001b[0m \u001b[0m_failover_to_python\u001b[0m\u001b[0;34m(\u001b[0m\u001b[0mself\u001b[0m\u001b[0;34m)\u001b[0m\u001b[0;34m:\u001b[0m\u001b[0;34m\u001b[0m\u001b[0;34m\u001b[0m\u001b[0m\n",
            "\u001b[0;32m/usr/local/lib/python3.7/dist-packages/pandas/io/parsers/c_parser_wrapper.py\u001b[0m in \u001b[0;36m__init__\u001b[0;34m(self, src, **kwds)\u001b[0m\n\u001b[1;32m     49\u001b[0m \u001b[0;34m\u001b[0m\u001b[0m\n\u001b[1;32m     50\u001b[0m         \u001b[0;31m# open handles\u001b[0m\u001b[0;34m\u001b[0m\u001b[0;34m\u001b[0m\u001b[0;34m\u001b[0m\u001b[0m\n\u001b[0;32m---> 51\u001b[0;31m         \u001b[0mself\u001b[0m\u001b[0;34m.\u001b[0m\u001b[0m_open_handles\u001b[0m\u001b[0;34m(\u001b[0m\u001b[0msrc\u001b[0m\u001b[0;34m,\u001b[0m \u001b[0mkwds\u001b[0m\u001b[0;34m)\u001b[0m\u001b[0;34m\u001b[0m\u001b[0;34m\u001b[0m\u001b[0m\n\u001b[0m\u001b[1;32m     52\u001b[0m         \u001b[0;32massert\u001b[0m \u001b[0mself\u001b[0m\u001b[0;34m.\u001b[0m\u001b[0mhandles\u001b[0m \u001b[0;32mis\u001b[0m \u001b[0;32mnot\u001b[0m \u001b[0;32mNone\u001b[0m\u001b[0;34m\u001b[0m\u001b[0;34m\u001b[0m\u001b[0m\n\u001b[1;32m     53\u001b[0m \u001b[0;34m\u001b[0m\u001b[0m\n",
            "\u001b[0;32m/usr/local/lib/python3.7/dist-packages/pandas/io/parsers/base_parser.py\u001b[0m in \u001b[0;36m_open_handles\u001b[0;34m(self, src, kwds)\u001b[0m\n\u001b[1;32m    227\u001b[0m             \u001b[0mmemory_map\u001b[0m\u001b[0;34m=\u001b[0m\u001b[0mkwds\u001b[0m\u001b[0;34m.\u001b[0m\u001b[0mget\u001b[0m\u001b[0;34m(\u001b[0m\u001b[0;34m\"memory_map\"\u001b[0m\u001b[0;34m,\u001b[0m \u001b[0;32mFalse\u001b[0m\u001b[0;34m)\u001b[0m\u001b[0;34m,\u001b[0m\u001b[0;34m\u001b[0m\u001b[0;34m\u001b[0m\u001b[0m\n\u001b[1;32m    228\u001b[0m             \u001b[0mstorage_options\u001b[0m\u001b[0;34m=\u001b[0m\u001b[0mkwds\u001b[0m\u001b[0;34m.\u001b[0m\u001b[0mget\u001b[0m\u001b[0;34m(\u001b[0m\u001b[0;34m\"storage_options\"\u001b[0m\u001b[0;34m,\u001b[0m \u001b[0;32mNone\u001b[0m\u001b[0;34m)\u001b[0m\u001b[0;34m,\u001b[0m\u001b[0;34m\u001b[0m\u001b[0;34m\u001b[0m\u001b[0m\n\u001b[0;32m--> 229\u001b[0;31m             \u001b[0merrors\u001b[0m\u001b[0;34m=\u001b[0m\u001b[0mkwds\u001b[0m\u001b[0;34m.\u001b[0m\u001b[0mget\u001b[0m\u001b[0;34m(\u001b[0m\u001b[0;34m\"encoding_errors\"\u001b[0m\u001b[0;34m,\u001b[0m \u001b[0;34m\"strict\"\u001b[0m\u001b[0;34m)\u001b[0m\u001b[0;34m,\u001b[0m\u001b[0;34m\u001b[0m\u001b[0;34m\u001b[0m\u001b[0m\n\u001b[0m\u001b[1;32m    230\u001b[0m         )\n\u001b[1;32m    231\u001b[0m \u001b[0;34m\u001b[0m\u001b[0m\n",
            "\u001b[0;32m/usr/local/lib/python3.7/dist-packages/pandas/io/common.py\u001b[0m in \u001b[0;36mget_handle\u001b[0;34m(path_or_buf, mode, encoding, compression, memory_map, is_text, errors, storage_options)\u001b[0m\n\u001b[1;32m    705\u001b[0m                 \u001b[0mencoding\u001b[0m\u001b[0;34m=\u001b[0m\u001b[0mioargs\u001b[0m\u001b[0;34m.\u001b[0m\u001b[0mencoding\u001b[0m\u001b[0;34m,\u001b[0m\u001b[0;34m\u001b[0m\u001b[0;34m\u001b[0m\u001b[0m\n\u001b[1;32m    706\u001b[0m                 \u001b[0merrors\u001b[0m\u001b[0;34m=\u001b[0m\u001b[0merrors\u001b[0m\u001b[0;34m,\u001b[0m\u001b[0;34m\u001b[0m\u001b[0;34m\u001b[0m\u001b[0m\n\u001b[0;32m--> 707\u001b[0;31m                 \u001b[0mnewline\u001b[0m\u001b[0;34m=\u001b[0m\u001b[0;34m\"\"\u001b[0m\u001b[0;34m,\u001b[0m\u001b[0;34m\u001b[0m\u001b[0;34m\u001b[0m\u001b[0m\n\u001b[0m\u001b[1;32m    708\u001b[0m             )\n\u001b[1;32m    709\u001b[0m         \u001b[0;32melse\u001b[0m\u001b[0;34m:\u001b[0m\u001b[0;34m\u001b[0m\u001b[0;34m\u001b[0m\u001b[0m\n",
            "\u001b[0;31mFileNotFoundError\u001b[0m: [Errno 2] No such file or directory: 'dollar-yen-exchange-rate-historical-chart.csv'"
          ]
        }
      ]
    },
    {
      "cell_type": "code",
      "metadata": {
        "id": "EjaJZtf7Kt7A",
        "colab": {
          "base_uri": "https://localhost:8080/",
          "height": 165
        },
        "outputId": "df887f6a-86c1-444d-9cbd-d3b02996ffdb"
      },
      "source": [
        "data.tail()"
      ],
      "execution_count": 4,
      "outputs": [
        {
          "output_type": "error",
          "ename": "NameError",
          "evalue": "ignored",
          "traceback": [
            "\u001b[0;31m---------------------------------------------------------------------------\u001b[0m",
            "\u001b[0;31mNameError\u001b[0m                                 Traceback (most recent call last)",
            "\u001b[0;32m<ipython-input-4-0b73fe40d24a>\u001b[0m in \u001b[0;36m<module>\u001b[0;34m()\u001b[0m\n\u001b[0;32m----> 1\u001b[0;31m \u001b[0mdata\u001b[0m\u001b[0;34m.\u001b[0m\u001b[0mtail\u001b[0m\u001b[0;34m(\u001b[0m\u001b[0;34m)\u001b[0m\u001b[0;34m\u001b[0m\u001b[0;34m\u001b[0m\u001b[0m\n\u001b[0m",
            "\u001b[0;31mNameError\u001b[0m: name 'data' is not defined"
          ]
        }
      ]
    },
    {
      "cell_type": "code",
      "metadata": {
        "id": "MpLgfW9CI6fZ",
        "colab": {
          "base_uri": "https://localhost:8080/",
          "height": 224
        },
        "outputId": "4526912e-964c-4165-8634-c3031afd8555"
      },
      "source": [
        "# preprocessing the data\n",
        "df=data[(data['date'] >= '2009-10-31') & (data['date'] <= '2019-10-31')]\n",
        "df.rename(columns={' value':'value'}, inplace=True)\n",
        "df['return']=df.value.pct_change()\n",
        "# define a new list which ignore the first (index 0) NAN value\n",
        "return_list=df['return'].tolist()[1:]"
      ],
      "execution_count": null,
      "outputs": [
        {
          "output_type": "stream",
          "text": [
            "/usr/local/lib/python3.6/dist-packages/pandas/core/frame.py:4238: SettingWithCopyWarning: \n",
            "A value is trying to be set on a copy of a slice from a DataFrame\n",
            "\n",
            "See the caveats in the documentation: http://pandas.pydata.org/pandas-docs/stable/user_guide/indexing.html#returning-a-view-versus-a-copy\n",
            "  return super().rename(**kwargs)\n",
            "/usr/local/lib/python3.6/dist-packages/ipykernel_launcher.py:3: SettingWithCopyWarning: \n",
            "A value is trying to be set on a copy of a slice from a DataFrame.\n",
            "Try using .loc[row_indexer,col_indexer] = value instead\n",
            "\n",
            "See the caveats in the documentation: http://pandas.pydata.org/pandas-docs/stable/user_guide/indexing.html#returning-a-view-versus-a-copy\n",
            "  This is separate from the ipykernel package so we can avoid doing imports until\n"
          ],
          "name": "stderr"
        }
      ]
    },
    {
      "cell_type": "markdown",
      "metadata": {
        "id": "41E2WxK-P9RO"
      },
      "source": [
        "GARCH(1,1) model is used to determined the volatility."
      ]
    },
    {
      "cell_type": "code",
      "metadata": {
        "id": "E-RHDDEcN7bf",
        "outputId": "3d9c580f-56c8-404f-a281-73d3214e68f1",
        "colab": {
          "base_uri": "https://localhost:8080/",
          "height": 768
        }
      },
      "source": [
        "# Using GARCH(1,1) to determine the volatility\n",
        "model = arch_model(return_list, mean='Zero', vol='GARCH', p=1, q=1)\n",
        "model_fit = model.fit()\n",
        "volatility = model_fit.conditional_volatility\n",
        "print(model_fit.summary())"
      ],
      "execution_count": null,
      "outputs": [
        {
          "output_type": "stream",
          "text": [
            "Iteration:      1,   Func. Count:      5,   Neg. LLF: -10085.986032212\n",
            "Positive directional derivative for linesearch    (Exit mode 8)\n",
            "            Current function value: -10085.986035013902\n",
            "            Iterations: 5\n",
            "            Function evaluations: 5\n",
            "            Gradient evaluations: 1\n",
            "                       Zero Mean - GARCH Model Results                        \n",
            "==============================================================================\n",
            "Dep. Variable:                      y   R-squared:                       0.000\n",
            "Mean Model:                 Zero Mean   Adj. R-squared:                  0.000\n",
            "Vol Model:                      GARCH   Log-Likelihood:                10086.0\n",
            "Distribution:                  Normal   AIC:                          -20166.0\n",
            "Method:            Maximum Likelihood   BIC:                          -20148.3\n",
            "                                        No. Observations:                 2646\n",
            "Date:                Fri, Nov 01 2019   Df Residuals:                     2643\n",
            "Time:                        08:55:04   Df Model:                            3\n",
            "                              Volatility Model                              \n",
            "============================================================================\n",
            "                 coef    std err          t      P>|t|      95.0% Conf. Int.\n",
            "----------------------------------------------------------------------------\n",
            "omega      6.5006e-07  3.058e-11  2.126e+04      0.000 [6.500e-07,6.501e-07]\n",
            "alpha[1]       0.0500  7.916e-03      6.317  2.674e-10 [3.449e-02,6.551e-02]\n",
            "beta[1]        0.9300  7.033e-03    132.234      0.000     [  0.916,  0.944]\n",
            "============================================================================\n",
            "\n",
            "Covariance estimator: robust\n",
            "\n",
            "WARNING: The optimizer did not indicate successful convergence. The message was\n",
            "Positive directional derivative for linesearch. See convergence_flag.\n"
          ],
          "name": "stdout"
        },
        {
          "output_type": "stream",
          "text": [
            "/usr/local/lib/python3.6/dist-packages/arch/univariate/base.py:260: DataScaleWarning: y is poorly scaled, which may affect convergence of the optimizer when\n",
            "estimating the model parameters. The scale of y is 3.25e-05. Parameter\n",
            "estimation work better when this value is between 1 and 1000. The recommended\n",
            "rescaling is 1000 * y.\n",
            "\n",
            "This warning can be disabled by either rescaling y before initializing the\n",
            "model or by setting rescale=False.\n",
            "\n",
            "  DataScaleWarning)\n",
            "/usr/local/lib/python3.6/dist-packages/arch/univariate/base.py:605: ConvergenceWarning: The optimizer returned code 8. The message is:\n",
            "Positive directional derivative for linesearch\n",
            "See scipy.optimize.fmin_slsqp for code meaning.\n",
            "\n",
            "  ConvergenceWarning)\n"
          ],
          "name": "stderr"
        }
      ]
    },
    {
      "cell_type": "markdown",
      "metadata": {
        "id": "gXxF-vwnUFfU"
      },
      "source": [
        "Estimate the Volatility in the next date with the GARCH(1,1) model"
      ]
    },
    {
      "cell_type": "code",
      "metadata": {
        "id": "e3EuHIKqUFGf",
        "colab": {
          "base_uri": "https://localhost:8080/",
          "height": 34
        },
        "outputId": "2df7562d-c1c0-4d8f-8ed7-35878213f98b"
      },
      "source": [
        "# Estimate the volatility in the next date\n",
        "omega = model_fit.params['omega'] \n",
        "alpha = model_fit.params['alpha[1]']\n",
        "beta = model_fit.params['beta[1]']\n",
        "vola_estimate = omega + alpha * np.power(return_list[-1] , 2)  + beta * np.power( volatility[-1] , 2 )\n",
        "vola_estimate = np.sqrt(vola_estimate)\n",
        "print('The volatility in the next date=', vola_estimate )\n",
        "#return_scienarios = []\n",
        "#for i in range(0,return_list)"
      ],
      "execution_count": null,
      "outputs": [
        {
          "output_type": "stream",
          "text": [
            "vola= 0.0038338334199308896\n"
          ],
          "name": "stdout"
        }
      ]
    },
    {
      "cell_type": "markdown",
      "metadata": {
        "id": "4KJXGsPbLYov"
      },
      "source": [
        "Value at Risk Calculation: historical simulation with volatility updating"
      ]
    },
    {
      "cell_type": "code",
      "metadata": {
        "id": "V_5xkz4Wl1Pz"
      },
      "source": [
        "# calculate the predicted value in the next date under different scenario and inporporate volatility updating\n",
        "Market_scienarios = []\n",
        "N_history = len(return_list)\n",
        "Value_current = df.loc[df.index[-1], 'value']\n",
        "df.loc[df.index[-1], 'value']\n",
        "for i in range(0, N_history ):\n",
        "  Market_value = Value_current *  ( 1 + return_list[i] * vola_estimate/volatility[i] )\n",
        "  Market_scienarios.append(Market_value)"
      ],
      "execution_count": null,
      "outputs": []
    },
    {
      "cell_type": "code",
      "metadata": {
        "id": "jg2kWLUWl1CM",
        "colab": {
          "base_uri": "https://localhost:8080/",
          "height": 34
        },
        "outputId": "49688cf9-4221-40db-e352-4e120e34d6d3"
      },
      "source": [
        "# Value at Risk (VaR) determination\n",
        "# CL_Var: condifence level for VaR\n",
        "CL_VaR = 95\n",
        "Value_current = df.loc[df.index[-1], 'value']\n",
        "Value_at_Risk = np.percentile(Market_scienarios,100-CL_VaR) -  Value_current\n",
        "print(\"The 1 day\", CL_VaR,\"% VaR:\", -Value_at_Risk)"
      ],
      "execution_count": null,
      "outputs": [
        {
          "output_type": "stream",
          "text": [
            "The 1 day 95 % VaR: 0.64802029956887\n"
          ],
          "name": "stdout"
        }
      ]
    },
    {
      "cell_type": "code",
      "metadata": {
        "id": "ZLxs5LYPl04T",
        "colab": {
          "base_uri": "https://localhost:8080/",
          "height": 295
        },
        "outputId": "706029cf-b809-49e8-8fa0-d62d6d632966"
      },
      "source": [
        "# Make the histogram of loss for the scenaros considered between current date and the next date\n",
        "import matplotlib.pyplot as plt\n",
        "mss = np.asarray(Value_current - Market_scienarios )\n",
        "\n",
        "plt.xlim([min(mss), max(mss)])\n",
        "\n",
        "plt.hist(mss, bins='auto', alpha=0.5)\n",
        "plt.title('Plot of loss for the scenaros')\n",
        "plt.xlabel('Loss')\n",
        "plt.ylabel('Frequency')\n",
        "plt.axvline( -Value_at_Risk , color='k', linestyle='dashed', linewidth=1)\n",
        "min_ylim, max_ylim = plt.ylim()\n",
        "plt.text(-Value_at_Risk*1.1, max_ylim*0.9, '{}% VaR: {:.2f}'.format(CL_VaR ,-Value_at_Risk))\n",
        "plt.show()"
      ],
      "execution_count": null,
      "outputs": [
        {
          "output_type": "display_data",
          "data": {
            "image/png": "[encoded data removed]",
            "text/plain": [
              "<Figure size 432x288 with 1 Axes>"
            ]
          },
          "metadata": {
            "tags": []
          }
        }
      ]
    },
    {
      "cell_type": "markdown",
      "metadata": {
        "id": "GdR_yJpCELCA"
      },
      "source": [
        "Value-at-Risk backtesting:\n",
        "here the binomial one-tailed test is used"
      ]
    },
    {
      "cell_type": "code",
      "metadata": {
        "id": "XCj_nmDdEKAJ",
        "colab": {
          "base_uri": "https://localhost:8080/",
          "height": 51
        },
        "outputId": "cec7515f-fb18-45c7-a580-e206caef50f7"
      },
      "source": [
        "# Confidence level for backtesting\n",
        "CL_backtesting = 95\n",
        "# The probability of the VaR beeing exceeded on given day\n",
        "p = 1 - CL_VaR/100\n",
        "N_confidence = binom.ppf( CL_backtesting*0.01, N_history, p)\n",
        "N_exceeded = sum( v < Value_at_Risk + Value_current for v in Market_scienarios)\n",
        "\n",
        "print(\"We look at total\", N_history,\"days. VaR level is reached at\", N_exceeded , \"days.\")\n",
        "if N_exceeded <= N_confidence:\n",
        "  print (\"This VaR model is accepted at\", CL_backtesting,\"% confidence level.\")\n",
        "else:\n",
        "  print (\"This VaR model is rejected at\", CL_backtesting,\"% confidence level.\")"
      ],
      "execution_count": null,
      "outputs": [
        {
          "output_type": "stream",
          "text": [
            "We look at total 2646 days. VaR level is reached at 133 days.\n",
            "This VaR model is accepted at 95 % confidence level.\n"
          ],
          "name": "stdout"
        }
      ]
    }
  ]
}